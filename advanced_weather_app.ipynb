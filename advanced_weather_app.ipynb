{
  "nbformat": 4,
  "nbformat_minor": 0,
  "metadata": {
    "colab": {
      "provenance": [],
      "authorship_tag": "ABX9TyOQVN9n/9vrDE0CmzaYzS4p",
      "include_colab_link": true
    },
    "kernelspec": {
      "name": "python3",
      "display_name": "Python 3"
    },
    "language_info": {
      "name": "python"
    }
  },
  "cells": [
    {
      "cell_type": "markdown",
      "metadata": {
        "id": "view-in-github",
        "colab_type": "text"
      },
      "source": [
        "<a href=\"https://colab.research.google.com/github/tara-hassanzadeh/advanced_weather_app/blob/main/advanced_weather_app.ipynb\" target=\"_parent\"><img src=\"https://colab.research.google.com/assets/colab-badge.svg\" alt=\"Open In Colab\"/></a>"
      ]
    },
    {
      "cell_type": "markdown",
      "source": [
        "Advanced weather app"
      ],
      "metadata": {
        "id": "G8MjqrkWiIRu"
      }
    },
    {
      "cell_type": "code",
      "execution_count": 1,
      "metadata": {
        "colab": {
          "base_uri": "https://localhost:8080/"
        },
        "id": "1ux3AlhQiFge",
        "outputId": "996ca11c-0ba5-4d96-c8a1-bd76a5985231"
      },
      "outputs": [
        {
          "output_type": "stream",
          "name": "stdout",
          "text": [
            "🌤️ Weather CLI App\n",
            "🔑 Enter your OpenWeatherMap API key: cf814653b383322f417caa6e14efa00f\n",
            "🏙️ Enter city name: Tehran\n",
            "\n",
            "🌆 City: Tehran\n",
            "🌡️ Temperature: 33.73°C\n",
            "☁️ Weather: few clouds\n",
            "💧 Humidity: 15%\n",
            "🌬️ Wind Speed: 1.03 m/s\n",
            "\n",
            "📅 5-Day Forecast (daily summary):\n",
            "\n",
            "2025/07/29 - few clouds, 33.73°C\n",
            "2025/07/30 - broken clouds, 34.69°C\n",
            "2025/07/31 - light rain, 31.86°C\n",
            "2025/08/01 - few clouds, 30.58°C\n",
            "2025/08/02 - clear sky, 32.1°C\n"
          ]
        }
      ],
      "source": [
        "import requests\n",
        "from datetime import datetime\n",
        "\n",
        "def get_current_weather(api_key, city):\n",
        "    url = f\"https://api.openweathermap.org/data/2.5/weather?q={city}&appid={api_key}&units=metric&lang=en\"\n",
        "    response = requests.get(url)\n",
        "    if response.status_code != 200:\n",
        "        raise ValueError(\"❌ Failed to fetch current weather. Please check your API key or city name.\")\n",
        "    return response.json()\n",
        "\n",
        "def get_forecast(api_key, city):\n",
        "    url = f\"https://api.openweathermap.org/data/2.5/forecast?q={city}&appid={api_key}&units=metric&lang=en\"\n",
        "    response = requests.get(url)\n",
        "    if response.status_code != 200:\n",
        "        raise ValueError(\"❌ Failed to fetch forecast data. Please check your API key or city name.\")\n",
        "    return response.json()\n",
        "\n",
        "def display_weather(data):\n",
        "    city = data['name']\n",
        "    temp = data['main']['temp']\n",
        "    description = data['weather'][0]['description']\n",
        "    humidity = data['main']['humidity']\n",
        "    wind_speed = data['wind']['speed']\n",
        "\n",
        "    print(f\"\\n🌆 City: {city}\")\n",
        "    print(f\"🌡️ Temperature: {temp}°C\")\n",
        "    print(f\"☁️ Weather: {description}\")\n",
        "    print(f\"💧 Humidity: {humidity}%\")\n",
        "    print(f\"🌬️ Wind Speed: {wind_speed} m/s\")\n",
        "\n",
        "def display_forecast(data):\n",
        "    print(\"\\n📅 5-Day Forecast (daily summary):\\n\")\n",
        "    shown_dates = set()\n",
        "    for entry in data['list']:\n",
        "        date_text = entry['dt_txt']\n",
        "        date = date_text.split(\" \")[0]\n",
        "        if date not in shown_dates:\n",
        "            temp = entry['main']['temp']\n",
        "            description = entry['weather'][0]['description']\n",
        "            formatted_date = datetime.strptime(date, \"%Y-%m-%d\").strftime(\"%Y/%m/%d\")\n",
        "            print(f\"{formatted_date} - {description}, {temp}°C\")\n",
        "            shown_dates.add(date)\n",
        "        if len(shown_dates) >= 5:\n",
        "            break\n",
        "\n",
        "def main():\n",
        "    print(\"🌤️ Weather CLI App\")\n",
        "    api_key = input(\"🔑 Enter your OpenWeatherMap API key: \").strip()\n",
        "    city = input(\"🏙️ Enter city name: \").strip()\n",
        "\n",
        "    if not api_key or not city:\n",
        "        print(\"⚠️ API key and city name are required.\")\n",
        "        return\n",
        "\n",
        "    try:\n",
        "        current = get_current_weather(api_key, city)\n",
        "        forecast = get_forecast(api_key, city)\n",
        "        display_weather(current)\n",
        "        display_forecast(forecast)\n",
        "    except ValueError as ve:\n",
        "        print(ve)\n",
        "    except Exception as e:\n",
        "        print(\"🚫 Unexpected error:\", e)\n",
        "\n",
        "if __name__ == \"__main__\":\n",
        "    main()"
      ]
    }
  ]
}